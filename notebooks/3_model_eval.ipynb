{
 "cells": [
  {
   "cell_type": "code",
   "execution_count": 1,
   "id": "9f89f3d7",
   "metadata": {},
   "outputs": [],
   "source": [
    "import pandas as pd\n",
    "import numpy as np\n",
    "import joblib\n",
    "from sklearn.model_selection import train_test_split\n",
    "from sklearn.linear_model import LogisticRegression\n",
    "from sklearn.neighbors import KNeighborsClassifier\n",
    "from sklearn.model_selection import cross_validate\n",
    "from sklearn.tree import DecisionTreeClassifier\n",
    "from sklearn.ensemble import RandomForestClassifier\n",
    "from sklearn.svm import SVC"
   ]
  },
  {
   "cell_type": "code",
   "execution_count": 2,
   "id": "87680016",
   "metadata": {},
   "outputs": [],
   "source": [
    "transformer = joblib.load(\"../Models/pipelines/pipeline1.joblib\")"
   ]
  },
  {
   "cell_type": "code",
   "execution_count": 3,
   "id": "f9513b49",
   "metadata": {},
   "outputs": [
    {
     "name": "stderr",
     "output_type": "stream",
     "text": [
      "/Users/macbookpro/OneDrive/DOCUMENTS/MASTER_AI/SEMESTER_2/CLOUD/modelo-credito/env/lib/python3.9/site-packages/sklearn/base.py:450: UserWarning: X does not have valid feature names, but SimpleImputer was fitted with feature names\n",
      "  warnings.warn(\n",
      "/Users/macbookpro/OneDrive/DOCUMENTS/MASTER_AI/SEMESTER_2/CLOUD/modelo-credito/env/lib/python3.9/site-packages/sklearn/base.py:450: UserWarning: X does not have valid feature names, but SimpleImputer was fitted with feature names\n",
      "  warnings.warn(\n"
     ]
    },
    {
     "data": {
      "text/plain": [
       "array([[0.48214286, 0.09629141, 0.        , 1.        , 0.        ,\n",
       "        1.        , 0.        ]])"
      ]
     },
     "execution_count": 3,
     "metadata": {},
     "output_type": "execute_result"
    }
   ],
   "source": [
    "transformer.transform([['male', 46, 2000, 'own']])"
   ]
  },
  {
   "cell_type": "code",
   "execution_count": 4,
   "id": "832e6ad7",
   "metadata": {},
   "outputs": [],
   "source": [
    "df = pd.read_csv(\"../data/german_credit_data-3.csv\")"
   ]
  },
  {
   "cell_type": "code",
   "execution_count": 5,
   "id": "5b007555",
   "metadata": {},
   "outputs": [],
   "source": [
    "train, test = train_test_split(df, test_size=0.3, random_state=42)"
   ]
  },
  {
   "cell_type": "code",
   "execution_count": 6,
   "id": "5882a98c",
   "metadata": {},
   "outputs": [],
   "source": [
    "features = ['Sex','Age','Credit amount','Housing']\n",
    "y_train = (train['Risk']=='bad').astype('int')\n",
    "X_train = train[features]\n",
    "X_train_transformed = transformer.transform(X_train)"
   ]
  },
  {
   "cell_type": "code",
   "execution_count": 7,
   "id": "8ca409a0",
   "metadata": {},
   "outputs": [
    {
     "name": "stdout",
     "output_type": "stream",
     "text": [
      "0.7014285714285714 +- 0.014568627181693668\n"
     ]
    }
   ],
   "source": [
    "cross_v = cross_validate(LogisticRegression(), X_train_transformed , y_train, cv=5, return_train_score=True,\n",
    "              scoring=['accuracy'])\n",
    "\n",
    "print(\"{} +- {}\". format(cross_v[\"test_accuracy\"].mean(),\n",
    "                         cross_v[\"test_accuracy\"].std()))"
   ]
  },
  {
   "cell_type": "code",
   "execution_count": 8,
   "id": "a12eb22d",
   "metadata": {},
   "outputs": [
    {
     "data": {
      "text/plain": [
       "{'fit_time': array([0.00728202, 0.0062902 , 0.00656509, 0.00587106, 0.00483799]),\n",
       " 'score_time': array([0.00043321, 0.00037289, 0.00033689, 0.00032687, 0.00030112]),\n",
       " 'test_accuracy': array([0.70714286, 0.69285714, 0.67857143, 0.72142857, 0.70714286]),\n",
       " 'train_accuracy': array([0.70178571, 0.70535714, 0.70892857, 0.69821429, 0.70178571])}"
      ]
     },
     "execution_count": 8,
     "metadata": {},
     "output_type": "execute_result"
    }
   ],
   "source": [
    "cross_v"
   ]
  },
  {
   "cell_type": "code",
   "execution_count": 9,
   "id": "691e9555",
   "metadata": {},
   "outputs": [
    {
     "data": {
      "text/plain": [
       "LogisticRegression()"
      ]
     },
     "execution_count": 9,
     "metadata": {},
     "output_type": "execute_result"
    }
   ],
   "source": [
    "clf = LogisticRegression()\n",
    "clf.fit(X_train_transformed, y_train)"
   ]
  },
  {
   "cell_type": "code",
   "execution_count": 10,
   "id": "a8785c0a",
   "metadata": {},
   "outputs": [
    {
     "name": "stderr",
     "output_type": "stream",
     "text": [
      "/Users/macbookpro/OneDrive/DOCUMENTS/MASTER_AI/SEMESTER_2/CLOUD/modelo-credito/env/lib/python3.9/site-packages/sklearn/base.py:450: UserWarning: X does not have valid feature names, but SimpleImputer was fitted with feature names\n",
      "  warnings.warn(\n",
      "/Users/macbookpro/OneDrive/DOCUMENTS/MASTER_AI/SEMESTER_2/CLOUD/modelo-credito/env/lib/python3.9/site-packages/sklearn/base.py:450: UserWarning: X does not have valid feature names, but SimpleImputer was fitted with feature names\n",
      "  warnings.warn(\n"
     ]
    },
    {
     "data": {
      "text/plain": [
       "array([[0.83685017, 0.16314983]])"
      ]
     },
     "execution_count": 10,
     "metadata": {},
     "output_type": "execute_result"
    }
   ],
   "source": [
    "clf.predict_proba(transformer.transform([['male', 46, 2000, 'own']]))"
   ]
  },
  {
   "cell_type": "code",
   "execution_count": 11,
   "id": "089d9035",
   "metadata": {},
   "outputs": [
    {
     "name": "stderr",
     "output_type": "stream",
     "text": [
      "/Users/macbookpro/OneDrive/DOCUMENTS/MASTER_AI/SEMESTER_2/CLOUD/modelo-credito/env/lib/python3.9/site-packages/sklearn/base.py:450: UserWarning: X does not have valid feature names, but SimpleImputer was fitted with feature names\n",
      "  warnings.warn(\n",
      "/Users/macbookpro/OneDrive/DOCUMENTS/MASTER_AI/SEMESTER_2/CLOUD/modelo-credito/env/lib/python3.9/site-packages/sklearn/base.py:450: UserWarning: X does not have valid feature names, but SimpleImputer was fitted with feature names\n",
      "  warnings.warn(\n"
     ]
    },
    {
     "data": {
      "text/plain": [
       "array([0])"
      ]
     },
     "execution_count": 11,
     "metadata": {},
     "output_type": "execute_result"
    }
   ],
   "source": [
    "clf.predict(transformer.transform([['male', 46, 2000, 'own']]))"
   ]
  },
  {
   "cell_type": "code",
   "execution_count": 12,
   "id": "23c8fd26",
   "metadata": {},
   "outputs": [
    {
     "name": "stdout",
     "output_type": "stream",
     "text": [
      "0.6928571428571428 +- 0.011952286093343947\n"
     ]
    }
   ],
   "source": [
    "cross_v_1 = cross_validate(KNeighborsClassifier(n_neighbors=20), X_train_transformed , y_train, cv=5, return_train_score=True,\n",
    "              scoring=['accuracy'])\n",
    "print(\"{} +- {}\". format(cross_v_1[\"test_accuracy\"].mean(),\n",
    "                         cross_v_1[\"test_accuracy\"].std()))"
   ]
  },
  {
   "cell_type": "code",
   "execution_count": 13,
   "id": "cac6542f",
   "metadata": {},
   "outputs": [
    {
     "name": "stdout",
     "output_type": "stream",
     "text": [
      "Train 0.7121428571428571 +- 0.007354021529276434\n",
      "Validation 0.6928571428571428 +- 0.011952286093343947\n"
     ]
    }
   ],
   "source": [
    "cross_v_2 = cross_validate(DecisionTreeClassifier(max_depth=3), X_train_transformed , y_train, cv=5, return_train_score=True,\n",
    "              scoring=['accuracy'])\n",
    "print(\"Train {} +- {}\". format(cross_v_1[\"train_accuracy\"].mean(),\n",
    "                         cross_v_1[\"train_accuracy\"].std()))\n",
    "print(\"Validation {} +- {}\". format(cross_v_1[\"test_accuracy\"].mean(),\n",
    "                         cross_v_1[\"test_accuracy\"].std()))"
   ]
  },
  {
   "cell_type": "code",
   "execution_count": 14,
   "id": "f8db7598",
   "metadata": {},
   "outputs": [
    {
     "name": "stdout",
     "output_type": "stream",
     "text": [
      "Train 0.7121428571428571 +- 0.007354021529276434\n",
      "Validation 0.6928571428571428 +- 0.011952286093343947\n"
     ]
    }
   ],
   "source": [
    "cross_v_3 = cross_validate(RandomForestClassifier(n_estimators=100,max_depth=4), X_train_transformed , y_train, cv=5, return_train_score=True,\n",
    "              scoring=['accuracy'])\n",
    "print(\"Train {} +- {}\". format(cross_v_1[\"train_accuracy\"].mean(),\n",
    "                         cross_v_1[\"train_accuracy\"].std()))\n",
    "print(\"Validation {} +- {}\". format(cross_v_1[\"test_accuracy\"].mean(),\n",
    "                         cross_v_1[\"test_accuracy\"].std()))"
   ]
  },
  {
   "cell_type": "code",
   "execution_count": 15,
   "id": "30b6eaa8",
   "metadata": {},
   "outputs": [
    {
     "name": "stdout",
     "output_type": "stream",
     "text": [
      "Train 0.7121428571428571 +- 0.007354021529276434\n",
      "Validation 0.6928571428571428 +- 0.011952286093343947\n"
     ]
    }
   ],
   "source": [
    "cross_v_4 = cross_validate(SVC(kernel='linear', C=5), X_train_transformed , y_train, cv=5, return_train_score=True,\n",
    "              scoring=['accuracy'])\n",
    "print(\"Train {} +- {}\". format(cross_v_1[\"train_accuracy\"].mean(),\n",
    "                         cross_v_1[\"train_accuracy\"].std()))\n",
    "print(\"Validation {} +- {}\". format(cross_v_1[\"test_accuracy\"].mean(),\n",
    "                         cross_v_1[\"test_accuracy\"].std()))"
   ]
  },
  {
   "cell_type": "code",
   "execution_count": 16,
   "id": "87af5fcc",
   "metadata": {},
   "outputs": [],
   "source": [
    "model = RandomForestClassifier()"
   ]
  },
  {
   "cell_type": "code",
   "execution_count": 17,
   "id": "983c1d6c",
   "metadata": {},
   "outputs": [
    {
     "data": {
      "text/plain": [
       "RandomForestClassifier()"
      ]
     },
     "execution_count": 17,
     "metadata": {},
     "output_type": "execute_result"
    }
   ],
   "source": [
    "model.fit(X_train_transformed, y_train)"
   ]
  },
  {
   "cell_type": "code",
   "execution_count": 18,
   "id": "73be2964",
   "metadata": {},
   "outputs": [
    {
     "data": {
      "text/plain": [
       "['../Models/estimators/model01.joblib']"
      ]
     },
     "execution_count": 18,
     "metadata": {},
     "output_type": "execute_result"
    }
   ],
   "source": [
    "joblib.dump(model, \"../Models/estimators/model01.joblib\")"
   ]
  },
  {
   "cell_type": "code",
   "execution_count": 19,
   "id": "f04c6470",
   "metadata": {},
   "outputs": [
    {
     "data": {
      "text/plain": [
       "['../Models/estimators/model02_new_features.joblib']"
      ]
     },
     "execution_count": 19,
     "metadata": {},
     "output_type": "execute_result"
    }
   ],
   "source": []
  },
  {
   "cell_type": "code",
   "execution_count": null,
   "id": "a7a8708d",
   "metadata": {},
   "outputs": [],
   "source": []
  }
 ],
 "metadata": {
  "kernelspec": {
   "display_name": "Python 3 (ipykernel)",
   "language": "python",
   "name": "python3"
  },
  "language_info": {
   "codemirror_mode": {
    "name": "ipython",
    "version": 3
   },
   "file_extension": ".py",
   "mimetype": "text/x-python",
   "name": "python",
   "nbconvert_exporter": "python",
   "pygments_lexer": "ipython3",
   "version": "3.9.6"
  }
 },
 "nbformat": 4,
 "nbformat_minor": 5
}
