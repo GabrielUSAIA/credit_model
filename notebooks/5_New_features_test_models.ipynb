{
 "cells": [
  {
   "cell_type": "code",
   "execution_count": 148,
   "id": "9f89f3d7",
   "metadata": {},
   "outputs": [],
   "source": [
    "###########################Modulos primarios#############################################\n",
    "import pandas as pd\n",
    "import numpy as np\n",
    "import matplotlib.pyplot as plt\n",
    "###########################Modulos pipelines#############################################\n",
    "from sklearn.compose import ColumnTransformer\n",
    "from sklearn.pipeline import Pipeline\n",
    "from sklearn.preprocessing import MinMaxScaler, StandardScaler\n",
    "from sklearn.impute import SimpleImputer\n",
    "from sklearn.preprocessing import OneHotEncoder\n",
    "from sklearn.model_selection import train_test_split\n",
    "###########################Modulos modelos#############################################\n",
    "from sklearn.linear_model import LogisticRegression\n",
    "from sklearn.neighbors import KNeighborsClassifier\n",
    "from sklearn.model_selection import cross_validate\n",
    "from sklearn.tree import DecisionTreeClassifier\n",
    "from sklearn.ensemble import RandomForestClassifier\n",
    "from sklearn.svm import SVC\n",
    "from sklearn.decomposition import PCA\n",
    "###########################Exportar modelos#############################################\n",
    "import joblib"
   ]
  },
  {
   "cell_type": "code",
   "execution_count": 2,
   "id": "3eda44ec",
   "metadata": {},
   "outputs": [],
   "source": [
    "df = pd.read_csv(\"../data/german_credit_data-3.csv\")"
   ]
  },
  {
   "cell_type": "code",
   "execution_count": 3,
   "id": "b4a2cbc2",
   "metadata": {},
   "outputs": [],
   "source": [
    "train, test = train_test_split(df, test_size=0.3, random_state=42)"
   ]
  },
  {
   "cell_type": "markdown",
   "id": "a337a2e8",
   "metadata": {},
   "source": [
    "# New Pipeline"
   ]
  },
  {
   "cell_type": "markdown",
   "id": "0ee5bac2",
   "metadata": {},
   "source": [
    "## Pipeline Test 1"
   ]
  },
  {
   "cell_type": "code",
   "execution_count": 4,
   "id": "f94a50f5",
   "metadata": {},
   "outputs": [],
   "source": [
    "features = ['Age','Credit amount','Duration', 'Checking account', 'Housing', 'Purpose']\n",
    "y_train = (train['Risk']=='bad').astype('int')\n",
    "X_train = train[features]"
   ]
  },
  {
   "cell_type": "code",
   "execution_count": 5,
   "id": "c07b56af",
   "metadata": {},
   "outputs": [],
   "source": [
    "numericImputer = SimpleImputer(strategy = 'mean')\n",
    "categoricImputer = SimpleImputer(strategy = 'most_frequent')\n",
    "encoder = OneHotEncoder()"
   ]
  },
  {
   "cell_type": "code",
   "execution_count": 6,
   "id": "6b5e9cfd",
   "metadata": {},
   "outputs": [],
   "source": [
    "scaler = MinMaxScaler()"
   ]
  },
  {
   "cell_type": "code",
   "execution_count": 7,
   "id": "5e80f4de",
   "metadata": {},
   "outputs": [],
   "source": [
    "numericPipeline = Pipeline([\n",
    "    (\"imputar_numeros\", numericImputer),\n",
    "    (\"escalado\", scaler)\n",
    "])"
   ]
  },
  {
   "cell_type": "code",
   "execution_count": 8,
   "id": "fcb4d4fd",
   "metadata": {},
   "outputs": [],
   "source": [
    "categoricalPipeline = Pipeline([\n",
    "    (\"imputar_categorias\", categoricImputer),\n",
    "    (\"oneHot\", encoder)\n",
    "])"
   ]
  },
  {
   "cell_type": "code",
   "execution_count": 9,
   "id": "00a0a472",
   "metadata": {},
   "outputs": [],
   "source": [
    "transformer =\\\n",
    "ColumnTransformer([(\"pipeline numerico\", numericPipeline, [0, 1, 2]),\n",
    "                   (\"pipeline categorico\", categoricalPipeline, [3, 4, 5])\n",
    "                ])"
   ]
  },
  {
   "cell_type": "code",
   "execution_count": 10,
   "id": "dea8baf3",
   "metadata": {},
   "outputs": [],
   "source": [
    "X_train_transform = transformer.fit_transform(X_train)"
   ]
  },
  {
   "cell_type": "code",
   "execution_count": 11,
   "id": "5b007555",
   "metadata": {},
   "outputs": [
    {
     "data": {
      "text/plain": [
       "['../Models/pipelines/pipeline2_6features.joblib']"
      ]
     },
     "execution_count": 11,
     "metadata": {},
     "output_type": "execute_result"
    }
   ],
   "source": [
    "joblib.dump(transformer, \"../Models/pipelines/pipeline2_6features.joblib\")"
   ]
  },
  {
   "cell_type": "code",
   "execution_count": 12,
   "id": "5882a98c",
   "metadata": {},
   "outputs": [],
   "source": [
    "transformer1 = joblib.load(\"../Models/pipelines/pipeline2_6features.joblib\")"
   ]
  },
  {
   "cell_type": "markdown",
   "id": "3e3d645b",
   "metadata": {},
   "source": [
    "## Pipeline test 2 PCA"
   ]
  },
  {
   "cell_type": "code",
   "execution_count": 22,
   "id": "70b6007d",
   "metadata": {},
   "outputs": [],
   "source": [
    "features = ['Age','Credit amount','Duration', 'Sex', 'Job', 'Housing', 'Saving accounts', 'Checking account', 'Purpose']\n",
    "y_train = (train['Risk']=='bad').astype('int')\n",
    "X_train = train[features]"
   ]
  },
  {
   "cell_type": "code",
   "execution_count": 23,
   "id": "71db54d2",
   "metadata": {},
   "outputs": [],
   "source": [
    "numericImputer = SimpleImputer(strategy = 'mean')\n",
    "categoricImputer = SimpleImputer(strategy = 'most_frequent')\n",
    "encoder = OneHotEncoder()\n",
    "\n",
    "scaler = MinMaxScaler()\n",
    "\n",
    "numericPipeline = Pipeline([\n",
    "    (\"imputar_numeros\", numericImputer),\n",
    "    (\"escalado\", scaler)\n",
    "])\n",
    "\n",
    "categoricalPipeline = Pipeline([\n",
    "    (\"imputar_categorias\", categoricImputer),\n",
    "    (\"oneHot\", encoder)\n",
    "])\n",
    "\n",
    "transformer1 =\\\n",
    "ColumnTransformer([(\"pipeline numerico\", numericPipeline, [0, 1, 2]),\n",
    "                   (\"pipeline categorico\", categoricalPipeline, [3, 4, 5, 6, 7, 8])\n",
    "                ])"
   ]
  },
  {
   "cell_type": "code",
   "execution_count": 24,
   "id": "e6c6d0ff",
   "metadata": {},
   "outputs": [],
   "source": [
    "X_train_transform_fit = transformer.fit_transform(X_train)"
   ]
  },
  {
   "cell_type": "code",
   "execution_count": 25,
   "id": "8fd1baf9",
   "metadata": {},
   "outputs": [
    {
     "data": {
      "text/plain": [
       "['../Models/pipelines/pipeline3_all_features.joblib']"
      ]
     },
     "execution_count": 25,
     "metadata": {},
     "output_type": "execute_result"
    }
   ],
   "source": [
    "joblib.dump(transformer, \"../Models/pipelines/pipeline3_all_features.joblib\")"
   ]
  },
  {
   "cell_type": "markdown",
   "id": "19251692",
   "metadata": {},
   "source": [
    "# Test 1 new features"
   ]
  },
  {
   "cell_type": "code",
   "execution_count": 226,
   "id": "c036ff51",
   "metadata": {},
   "outputs": [],
   "source": [
    "validation = []"
   ]
  },
  {
   "cell_type": "code",
   "execution_count": 227,
   "id": "deed91d7",
   "metadata": {},
   "outputs": [],
   "source": [
    "\n",
    "tags = [\"Logistic\", \"KNN\", \"D_Tree\", \"Rand_Fo\", \"SVM\"]\n",
    "X_train_transformed = transformer.transform(X_train)"
   ]
  },
  {
   "cell_type": "code",
   "execution_count": 228,
   "id": "8ca409a0",
   "metadata": {},
   "outputs": [
    {
     "name": "stdout",
     "output_type": "stream",
     "text": [
      "Train:      0.7228571428571428 +- 0.006328587552381889\n",
      "Validation: 0.7057142857142857 +- 0.009476070829586866\n"
     ]
    }
   ],
   "source": [
    "cross_v = cross_validate(LogisticRegression(), X_train_transformed , y_train, cv=5, return_train_score=True,\n",
    "              scoring=['accuracy'])\n",
    "\n",
    "print(\"Train:      {} +- {}\". format(cross_v[\"train_accuracy\"].mean(),\n",
    "                         cross_v[\"train_accuracy\"].std()))\n",
    "print(\"Validation: {} +- {}\". format(cross_v[\"test_accuracy\"].mean(),\n",
    "                         cross_v[\"test_accuracy\"].std()))\n",
    "validation.append(cross_v[\"test_accuracy\"].mean())"
   ]
  },
  {
   "cell_type": "code",
   "execution_count": 229,
   "id": "23c8fd26",
   "metadata": {},
   "outputs": [
    {
     "name": "stdout",
     "output_type": "stream",
     "text": [
      "Train:      0.7203571428571429 +- 0.007107053122190117\n",
      "Validation: 0.71 +- 0.02147613768338987\n"
     ]
    }
   ],
   "source": [
    "cross_v_1 = cross_validate(KNeighborsClassifier(n_neighbors=20), X_train_transformed , y_train, cv=5, return_train_score=True,\n",
    "              scoring=['accuracy'])\n",
    "print(\"Train:      {} +- {}\". format(cross_v_1[\"train_accuracy\"].mean(),\n",
    "                         cross_v_1[\"train_accuracy\"].std()))\n",
    "print(\"Validation: {} +- {}\". format(cross_v_1[\"test_accuracy\"].mean(),\n",
    "                         cross_v_1[\"test_accuracy\"].std()))\n",
    "validation.append(cross_v_1[\"test_accuracy\"].mean())"
   ]
  },
  {
   "cell_type": "code",
   "execution_count": 230,
   "id": "cac6542f",
   "metadata": {},
   "outputs": [
    {
     "name": "stdout",
     "output_type": "stream",
     "text": [
      "Train:      0.7471428571428571 +- 0.0040089186286863514\n",
      "Validation: 0.7042857142857143 +- 0.018952141659173728\n"
     ]
    }
   ],
   "source": [
    "cross_v_2 = cross_validate(DecisionTreeClassifier(max_depth=3), X_train_transformed , y_train, cv=5, return_train_score=True,\n",
    "              scoring=['accuracy'])\n",
    "print(\"Train:      {} +- {}\". format(cross_v_2[\"train_accuracy\"].mean(),\n",
    "                         cross_v_2[\"train_accuracy\"].std()))\n",
    "print(\"Validation: {} +- {}\". format(cross_v_2[\"test_accuracy\"].mean(),\n",
    "                         cross_v_2[\"test_accuracy\"].std()))\n",
    "validation.append(cross_v_2[\"test_accuracy\"].mean())"
   ]
  },
  {
   "cell_type": "code",
   "execution_count": 231,
   "id": "f8db7598",
   "metadata": {},
   "outputs": [
    {
     "name": "stdout",
     "output_type": "stream",
     "text": [
      "Train:      0.76 +- 0.00673855795146901\n",
      "Validation: 0.7157142857142857 +- 0.013850513878332357\n"
     ]
    }
   ],
   "source": [
    "cross_v_3 = cross_validate(RandomForestClassifier(n_estimators=100,max_depth=4), X_train_transformed , y_train, cv=5, return_train_score=True,\n",
    "              scoring=['accuracy'])\n",
    "print(\"Train:      {} +- {}\". format(cross_v_3[\"train_accuracy\"].mean(),\n",
    "                         cross_v_3[\"train_accuracy\"].std()))\n",
    "print(\"Validation: {} +- {}\". format(cross_v_3[\"test_accuracy\"].mean(),\n",
    "                         cross_v_3[\"test_accuracy\"].std()))\n",
    "validation.append(cross_v_3[\"test_accuracy\"].mean())"
   ]
  },
  {
   "cell_type": "code",
   "execution_count": 232,
   "id": "30b6eaa8",
   "metadata": {},
   "outputs": [
    {
     "name": "stdout",
     "output_type": "stream",
     "text": [
      "Train 0.7489285714285715 +- 0.004738035414793411\n",
      "Validation 0.7014285714285714 +- 0.026496052844273428\n"
     ]
    }
   ],
   "source": [
    "cross_v_4 = cross_validate(SVC(kernel='rbf', C=5), X_train_transformed , y_train, cv=5, return_train_score=True,\n",
    "              scoring=['accuracy'])\n",
    "print(\"Train {} +- {}\". format(cross_v_4[\"train_accuracy\"].mean(),\n",
    "                         cross_v_4[\"train_accuracy\"].std()))\n",
    "print(\"Validation {} +- {}\". format(cross_v_4[\"test_accuracy\"].mean(),\n",
    "                         cross_v_4[\"test_accuracy\"].std()))\n",
    "validation.append(cross_v_4[\"test_accuracy\"].mean())"
   ]
  },
  {
   "cell_type": "markdown",
   "id": "3a0cd676",
   "metadata": {},
   "source": [
    "# PCA"
   ]
  },
  {
   "cell_type": "code",
   "execution_count": 233,
   "id": "671be327",
   "metadata": {},
   "outputs": [],
   "source": [
    "\n",
    "transformer2 = joblib.load(\"../Models/pipelines/pipeline3_all_features.joblib\")"
   ]
  },
  {
   "cell_type": "code",
   "execution_count": 234,
   "id": "c480200c",
   "metadata": {},
   "outputs": [],
   "source": [
    "X_train_transformed_pca = transformer.transform(X_train)"
   ]
  },
  {
   "cell_type": "code",
   "execution_count": 235,
   "id": "983c1d6c",
   "metadata": {},
   "outputs": [],
   "source": [
    "pca = PCA(n_components=1)\n",
    "pca.fit(X_train_transformed_pca)\n",
    "pca_x = pca.transform(X_train_transformed_pca)"
   ]
  },
  {
   "cell_type": "markdown",
   "id": "c8743acf",
   "metadata": {},
   "source": [
    "## PCA Models test"
   ]
  },
  {
   "cell_type": "code",
   "execution_count": 236,
   "id": "92ddff8e",
   "metadata": {},
   "outputs": [],
   "source": [
    "validation_pca = []"
   ]
  },
  {
   "cell_type": "code",
   "execution_count": 237,
   "id": "2b31627e",
   "metadata": {},
   "outputs": [
    {
     "name": "stdout",
     "output_type": "stream",
     "text": [
      "Train:      0.7228571428571428 +- 0.006328587552381889\n",
      "Validation: 0.7057142857142857 +- 0.009476070829586866\n"
     ]
    }
   ],
   "source": [
    "\n",
    "cross_v_pca = cross_validate(LogisticRegression(), X_train_transformed_pca , y_train, cv=5, return_train_score=True,\n",
    "              scoring=['accuracy'])\n",
    "\n",
    "print(\"Train:      {} +- {}\". format(cross_v_pca[\"train_accuracy\"].mean(),\n",
    "                         cross_v_pca[\"train_accuracy\"].std()))\n",
    "print(\"Validation: {} +- {}\". format(cross_v_pca[\"test_accuracy\"].mean(),\n",
    "                         cross_v_pca[\"test_accuracy\"].std()))\n",
    "validation_pca.append(cross_v_pca[\"test_accuracy\"].mean())"
   ]
  },
  {
   "cell_type": "code",
   "execution_count": 238,
   "id": "e3ae99e2",
   "metadata": {},
   "outputs": [
    {
     "name": "stdout",
     "output_type": "stream",
     "text": [
      "Train:      0.7203571428571429 +- 0.007107053122190117\n",
      "Validation: 0.71 +- 0.02147613768338987\n"
     ]
    }
   ],
   "source": [
    "cross_v_1_pca = cross_validate(KNeighborsClassifier(n_neighbors=20), X_train_transformed_pca , y_train, cv=5, return_train_score=True,\n",
    "              scoring=['accuracy'])\n",
    "print(\"Train:      {} +- {}\". format(cross_v_1_pca[\"train_accuracy\"].mean(),\n",
    "                         cross_v_1_pca[\"train_accuracy\"].std()))\n",
    "print(\"Validation: {} +- {}\". format(cross_v_1_pca[\"test_accuracy\"].mean(),\n",
    "                         cross_v_1_pca[\"test_accuracy\"].std()))\n",
    "validation_pca.append(cross_v_1_pca[\"test_accuracy\"].mean())"
   ]
  },
  {
   "cell_type": "code",
   "execution_count": 239,
   "id": "41f8cb2f",
   "metadata": {},
   "outputs": [
    {
     "name": "stdout",
     "output_type": "stream",
     "text": [
      "Train:      0.7471428571428571 +- 0.0040089186286863514\n",
      "Validation: 0.7057142857142857 +- 0.018844151368961327\n"
     ]
    }
   ],
   "source": [
    "cross_v_2_pca = cross_validate(DecisionTreeClassifier(max_depth=3), X_train_transformed_pca , y_train, cv=5, return_train_score=True,\n",
    "              scoring=['accuracy'])\n",
    "print(\"Train:      {} +- {}\". format(cross_v_2_pca[\"train_accuracy\"].mean(),\n",
    "                         cross_v_2_pca[\"train_accuracy\"].std()))\n",
    "print(\"Validation: {} +- {}\". format(cross_v_2_pca[\"test_accuracy\"].mean(),\n",
    "                         cross_v_2_pca[\"test_accuracy\"].std()))\n",
    "validation_pca.append(cross_v_2_pca[\"test_accuracy\"].mean())"
   ]
  },
  {
   "cell_type": "code",
   "execution_count": 240,
   "id": "3d2fd234",
   "metadata": {},
   "outputs": [
    {
     "name": "stdout",
     "output_type": "stream",
     "text": [
      "Train:      0.7607142857142858 +- 0.006081923702116576\n",
      "Validation: 0.7157142857142856 +- 0.013850513878332402\n"
     ]
    }
   ],
   "source": [
    "cross_v_3_pca = cross_validate(RandomForestClassifier(n_estimators=100,max_depth=4), X_train_transformed_pca , y_train, cv=5, return_train_score=True,\n",
    "              scoring=['accuracy'])\n",
    "print(\"Train:      {} +- {}\". format(cross_v_3_pca[\"train_accuracy\"].mean(),\n",
    "                         cross_v_3_pca[\"train_accuracy\"].std()))\n",
    "print(\"Validation: {} +- {}\". format(cross_v_3_pca[\"test_accuracy\"].mean(),\n",
    "                         cross_v_3_pca[\"test_accuracy\"].std()))\n",
    "validation_pca.append(cross_v_3_pca[\"test_accuracy\"].mean())"
   ]
  },
  {
   "cell_type": "code",
   "execution_count": 241,
   "id": "bfa79260",
   "metadata": {},
   "outputs": [
    {
     "name": "stdout",
     "output_type": "stream",
     "text": [
      "Train 0.7489285714285715 +- 0.004738035414793411\n",
      "Validation 0.7014285714285714 +- 0.026496052844273428\n"
     ]
    }
   ],
   "source": [
    "cross_v_4_pca = cross_validate(SVC(kernel='rbf', C=5), X_train_transformed_pca , y_train, cv=5, return_train_score=True,\n",
    "              scoring=['accuracy'])\n",
    "print(\"Train {} +- {}\". format(cross_v_4_pca[\"train_accuracy\"].mean(),\n",
    "                         cross_v_4_pca[\"train_accuracy\"].std()))\n",
    "print(\"Validation {} +- {}\". format(cross_v_4_pca[\"test_accuracy\"].mean(),\n",
    "                         cross_v_4_pca[\"test_accuracy\"].std()))\n",
    "validation_pca.append(cross_v_4_pca[\"test_accuracy\"].mean())"
   ]
  },
  {
   "cell_type": "code",
   "execution_count": 242,
   "id": "e69c0e42",
   "metadata": {},
   "outputs": [
    {
     "data": {
      "text/plain": [
       "[0.7057142857142857,\n",
       " 0.71,\n",
       " 0.7057142857142857,\n",
       " 0.7157142857142856,\n",
       " 0.7014285714285714]"
      ]
     },
     "execution_count": 242,
     "metadata": {},
     "output_type": "execute_result"
    }
   ],
   "source": [
    "validation_pca"
   ]
  },
  {
   "cell_type": "code",
   "execution_count": 243,
   "id": "05d44c7b",
   "metadata": {},
   "outputs": [
    {
     "data": {
      "text/plain": [
       "[0.7057142857142857,\n",
       " 0.71,\n",
       " 0.7042857142857143,\n",
       " 0.7157142857142857,\n",
       " 0.7014285714285714]"
      ]
     },
     "execution_count": 243,
     "metadata": {},
     "output_type": "execute_result"
    }
   ],
   "source": [
    "validation"
   ]
  },
  {
   "cell_type": "code",
   "execution_count": 244,
   "id": "5a8f8832",
   "metadata": {},
   "outputs": [
    {
     "data": {
      "image/png": "[encoded data removed]",
      "text/plain": [
       "<Figure size 720x360 with 2 Axes>"
      ]
     },
     "metadata": {
      "needs_background": "light"
     },
     "output_type": "display_data"
    }
   ],
   "source": [
    "figure, axis = plt.subplots(1,2,figsize=(10,5))\n",
    "axis[0].bar(tags, validation)\n",
    "axis[0].set_title(\"resultados modelos\")\n",
    "axis[1].bar(tags, validation)\n",
    "axis[1].set_title(\"resultados modelos con PCA\")\n",
    "plt.show()"
   ]
  },
  {
   "cell_type": "code",
   "execution_count": 245,
   "id": "624f7aed",
   "metadata": {},
   "outputs": [
    {
     "data": {
      "image/png": "[encoded data removed]",
      "text/plain": [
       "<Figure size 432x288 with 1 Axes>"
      ]
     },
     "metadata": {
      "needs_background": "light"
     },
     "output_type": "display_data"
    }
   ],
   "source": [
    "X_axis = np.arange(len(tags))\n",
    "plt.bar(X_axis - 0.2, validation, 0.4, label = \"Sin PCA\")\n",
    "plt.bar(X_axis + 0.2, validation, 0.4, label = \"Con PCA\")\n",
    "\n",
    "plt.xticks(X_axis, tags)\n",
    "plt.legend()\n",
    "plt.show()"
   ]
  }
 ],
 "metadata": {
  "kernelspec": {
   "display_name": "Python 3 (ipykernel)",
   "language": "python",
   "name": "python3"
  },
  "language_info": {
   "codemirror_mode": {
    "name": "ipython",
    "version": 3
   },
   "file_extension": ".py",
   "mimetype": "text/x-python",
   "name": "python",
   "nbconvert_exporter": "python",
   "pygments_lexer": "ipython3",
   "version": "3.9.6"
  }
 },
 "nbformat": 4,
 "nbformat_minor": 5
}
